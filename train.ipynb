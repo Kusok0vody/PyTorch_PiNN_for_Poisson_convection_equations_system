{
 "cells": [
  {
   "cell_type": "code",
   "execution_count": 1,
   "metadata": {},
   "outputs": [],
   "source": [
    "import numpy as np \n",
    "import matplotlib.pyplot as plt\n",
    "import ipywidgets as ipw\n",
    "import torch\n",
    "import time\n",
    "\n",
    "import programs.NN as NN\n",
    "import programs.visualize as vis\n",
    "import programs.misc as misc\n",
    "import programs.objects as obj\n",
    "\n",
    "from programs.main import *\n",
    "from programs.misc import *"
   ]
  },
  {
   "cell_type": "code",
   "execution_count": null,
   "metadata": {},
   "outputs": [],
   "source": [
    "torch.manual_seed(1234)\n",
    "np.random.seed(1234)\n",
    "device = torch.device(\"cuda:0\" if torch.cuda.is_available() else \"cpu\")\n",
    "# device='cpu'\n",
    "torch.cuda.set_device(device)\n",
    "print(device)"
   ]
  },
  {
   "cell_type": "code",
   "execution_count": null,
   "metadata": {},
   "outputs": [],
   "source": [
    "# Ширина трещины\n",
    "w = 1.5\n",
    "\n",
    "# Вязкость\n",
    "mu0 = 0.01\n",
    "\n",
    "# Максимальная концентрация проппанта\n",
    "cmax = 0.65\n",
    "\n",
    "# Концентрация входящего проппанта в первый момент времени\n",
    "c1 = 0.25\n",
    "\n",
    "# Концентрация входящего проппанта во второй момент времени\n",
    "c2 = 0.0\n",
    "\n",
    "# Интервалы смены концентрации\n",
    "transitional_times = [0.5]\n",
    "\n",
    "# Скорость потока\n",
    "u_in = 1.\n",
    "\n",
    "# Длина интервала перфорации\n",
    "chi = 0.4\n",
    "\n",
    "# Степень в вязкости\n",
    "beta = -2.5\n",
    "\n",
    "# Число точек для ГУ (возводится в квадрат)\n",
    "BC_points = 64\n",
    "\n",
    "# Число точек для НУ (возводится в квадрат)\n",
    "IC_points = 64\n",
    "\n",
    "# Число точек коллокации (возводится в куб)\n",
    "PDE_points = 32\n",
    "\n",
    "# Границы для x,y,t\n",
    "x_min, x_max, y_min, y_max, t_min, t_max = 0.0, 1.0, 0.0, 1.0, 0.0, 1.0\n",
    "boundaries = [x_min, x_max, y_min, y_max, t_min, t_max]\n",
    "\n",
    "# Массивы условий\n",
    "cond = u_in * -12\n",
    "mu1 = cond * misc.viscosity(mu0,c1,cmax,beta)\n",
    "mu2 = cond * misc.viscosity(mu0,c2,cmax,beta)\n",
    "c_condition = [c1, c2]\n",
    "print (cond*mu0/w**2, misc.viscosity(mu0,np.array(c_condition),cmax,beta))\n",
    "print (misc.compare_viscosity(c1,c2,cmax,beta))"
   ]
  },
  {
   "cell_type": "code",
   "execution_count": null,
   "metadata": {},
   "outputs": [],
   "source": [
    "net = Poisson_Convection({'w':w,\n",
    "                          'mu0':mu0,\n",
    "                          'cmax':cmax,\n",
    "                          'u_in':u_in,\n",
    "                          'chi':chi,\n",
    "                          'times':transitional_times,\n",
    "                          'size':boundaries,\n",
    "                          'c_cond':c_condition,\n",
    "                          'N_PDE':PDE_points,\n",
    "                          'N_BC':BC_points,\n",
    "                          'N_IC':IC_points,\n",
    "                          'beta':beta,\n",
    "                          'w_func':'elliptic',\n",
    "                          'w1':-1,\n",
    "                          'w2':1.5,\n",
    "                          'w3':0.5,\n",
    "                          'w4':0.5,\n",
    "                          'save_after': True,\n",
    "                          'path':'data/January_28',\n",
    "                          'NN_params' : {'input_size' : 3,\n",
    "                                         # 'neurons_arr': [64, 64, 128, 256, 128, 64, 64],\n",
    "                                         'neurons_arr': [128]*5,\n",
    "                                         # 'neurons_arr': [48]*20,\n",
    "                                         'output_size' : 3,\n",
    "                                         'depth' : 4,\n",
    "                                        \n",
    "                                        }\n",
    "                          })\n",
    "net.model.apply(NN.Net.init_weights)"
   ]
  },
  {
   "cell_type": "code",
   "execution_count": 5,
   "metadata": {},
   "outputs": [],
   "source": [
    "# # net.update_width(func_name='elliptic', w=1.5, w1=-1, w2=1.5, w3=0.5, w4=0.5)\n",
    "# x = torch.linspace(0,1,100)\n",
    "# y = torch.linspace(0,1,200)\n",
    "# x, y = torch.meshgrid(x,y, indexing='ij')\n",
    "# plt.imshow(net.w_func(x,y).cpu().T, extent=[0,1,1,0], cmap='seismic')\n",
    "# plt.title('width')\n",
    "# # plt.clim(0,2)\n",
    "# plt.colorbar()\n",
    "# net.w_func(x,y).max(), net.w_func(x,y).min()\n",
    "\n",
    "# plt.scatter(net.x_IC.data.cpu(),net.y_IC.data.cpu(),c=net.c_IC.data.cpu())\n",
    "# plt.scatter(net.x_IC.data.cpu(),net.y_IC.data.cpu(),c=misc.psi(net.x_IC.data.cpu(), net.chi, 1)*misc.psi(net.y_IC.data.cpu(), net.chi, 1))\n",
    "# plt.colorbar()"
   ]
  },
  {
   "cell_type": "code",
   "execution_count": null,
   "metadata": {},
   "outputs": [],
   "source": [
    "# net.update_from_file(\"data/January_8/51002\")\n",
    "# net.save(\"data/test_make\")\n",
    "# net.load('data/January_20/213275')\n",
    "# vars(net)\n",
    "# a = misc.psi(net.y_IC, net.chi)*torch.where(net.x_IC==0, 1, 0)\n",
    "# for i in range(len(net.c_IC)):\n",
    "    # if round(net.x_IC[i].item(),4)==0.0:\n",
    "        # print ('-'*50)\n",
    "    # print (i+1, round(net.c_IC[i].item(),4), round(net.x_IC[i].item(),4), round(net.y_IC[i].item(),4), round(net.t_IC[i].item(),4))\n",
    "    # print (i+1, round(net.c_IC[i].item(),4), round(a[i].item(),4), round(net.x_IC[i].item(),4), round(net.y_IC[i].item(),4), round(net.t_IC[i].item(),4))\n",
    "\n",
    "# for i in range(len(net.c)):\n",
    "    # print (i+1, net.c[i].item(), net.p[i].item(), round(net.x_BC[i].item(), 4), round(net.y_BC[i].item(),4))#, round(net.t_BC[i].item(),4))\n",
    "\n",
    "# for i in range(len(net.X)):\n",
    "    # print (i+1,  round(cc[i].item(),4), round(net.X[i].item(), 4), round(net.Y[i].item(),4), round(net.T[i].item(),4))\n",
    "# for i in range(len(net.c)):\n",
    "    # print (i+1, net.X[i].item(),net.x_IC[i].item())"
   ]
  },
  {
   "cell_type": "code",
   "execution_count": null,
   "metadata": {
    "scrolled": true
   },
   "outputs": [],
   "source": [
    "net.weights = [0.5,0.5,1.5,2,1.5,1.5,0,0]\n",
    "# net.Adam_epochs = net.epoch + 1000\n",
    "start_time = time.time()\n",
    "net.max_epoch = 150000\n",
    "net.max_iter = 1\n",
    "net.train()\n",
    "net.make_distributed_points()\n",
    "net.train()\n",
    "# net.save(f'data/January_8/{net.epoch}')\n",
    "end_time = time.time()\n",
    "elapsed_time = end_time - start_time"
   ]
  },
  {
   "cell_type": "code",
   "execution_count": null,
   "metadata": {},
   "outputs": [],
   "source": [
    "try:\n",
    "    print('Elapsed time: ', elapsed_time)\n",
    "except NameError: pass"
   ]
  },
  {
   "cell_type": "code",
   "execution_count": null,
   "metadata": {},
   "outputs": [],
   "source": [
    "print (net.losses[-1], len(net.losses))\n",
    "fig = plt.figure(dpi=150)\n",
    "plt.scatter(range(0,len(net.losses)), net.losses,label='losses', c='black',alpha=0.8, s=1)\n",
    "plt.scatter(range(0,len(net.PDE)), net.PDE,label='pde', c='green',alpha=0.5, s=1)\n",
    "plt.scatter(range(0,len(net.BC)), net.BC, label='bc', c='red',alpha=0.5, s=1)\n",
    "plt.scatter(range(0,len(net.IC)), net.IC, label='ic', c='blue',alpha=0.5, s=1)\n",
    "plt.scatter(range(0,len(net.corr)), net.corr, label='corr', c='brown',alpha=0.5, s=1)\n",
    "plt.legend(loc='upper right')\n",
    "plt.grid()\n",
    "# plt.savefig(\"gifs/losses\")\n",
    "plt.ylim(1e-6,1)\n",
    "plt.yscale('log')"
   ]
  }
 ],
 "metadata": {
  "kernelspec": {
   "display_name": "Python 3",
   "language": "python",
   "name": "python3"
  },
  "language_info": {
   "codemirror_mode": {
    "name": "ipython",
    "version": 3
   },
   "file_extension": ".py",
   "mimetype": "text/x-python",
   "name": "python",
   "nbconvert_exporter": "python",
   "pygments_lexer": "ipython3",
   "version": "3.11.9"
  },
  "widgets": {
   "application/vnd.jupyter.widget-state+json": {
    "state": {},
    "version_major": 2,
    "version_minor": 0
   }
  }
 },
 "nbformat": 4,
 "nbformat_minor": 4
}
